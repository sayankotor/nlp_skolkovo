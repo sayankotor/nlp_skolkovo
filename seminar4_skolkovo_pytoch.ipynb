{
 "cells": [
  {
   "cell_type": "markdown",
   "metadata": {
    "colab_type": "text",
    "id": "wK9adcjNlteK"
   },
   "source": [
    "## Reccurent Neural Network and Language modeling"
   ]
  },
  {
   "cell_type": "markdown",
   "metadata": {
    "colab_type": "text",
    "id": "J95PhAaGlteQ"
   },
   "source": [
    "[![Open In Colab](https://colab.research.google.com/assets/colab-badge.svg)](https://colab.research.google.com/github/sayankotor/nlp_skolkovo/blob/master/seminar4_skolkovo_pytoch.ipynb)"
   ]
  },
  {
   "cell_type": "markdown",
   "metadata": {
    "colab_type": "text",
    "id": "0THE5d_3lteS"
   },
   "source": [
    "### 0 step. \n",
    "### Why LSTM, not RNN ?"
   ]
  },
  {
   "cell_type": "markdown",
   "metadata": {
    "colab_type": "text",
    "id": "CYUFFDQ2lteU"
   },
   "source": [
    "<img src='https://memeworld.funnyjunk.com/pictures/The+tragedy+of+a+three+second+memory_b414ea_4853499.jpg' width=480px>"
   ]
  },
  {
   "cell_type": "markdown",
   "metadata": {
    "colab_type": "text",
    "id": "gbQk5d-alteV"
   },
   "source": [
    "We need a \"long\" memory.\n",
    "\n",
    " __He__ doesn't have very much confidents in __himself__.\n",
    " \n",
    " __She__ doesn't have very much confidents in __herself__."
   ]
  },
  {
   "cell_type": "markdown",
   "metadata": {
    "colab_type": "text",
    "id": "dv35yNwRxr6R"
   },
   "source": [
    "<img src='https://drive.google.com/uc?export=view&id=1eqfPpRMsK6lJemwZtqVJW8hKFqT7bckv' width=680px>"
   ]
  },
  {
   "cell_type": "markdown",
   "metadata": {
    "colab_type": "text",
    "id": "kb_5L_3Mlted"
   },
   "source": [
    "* The hidden state in RNN:\n",
    "    $h_t = tanh(h_{t-1}W_h + x_t W_x)$\n",
    "\n",
    "* Gradient (state derivative by weights):\n",
    "\n",
    "$$\\frac{\\partial{h_t}}{\\partial W_h} = \\sum_{k =0 ..t}\\frac{\\partial{h_t}}{\\partial {h_k}}\\cdot\\frac{\\partial{h_k}}{\\partial {W_k}}$$\n",
    "    \n",
    "$$\\frac{\\partial{h_t}}{\\partial {h_k}}=\\prod_{i=k+1..t}\\frac{\\partial{h_i}}{\\partial {h_{i-1}}} \\approx W_h^{t - k}$$\n",
    "\n",
    "* if norm($W_h$) > 1 -> gradient explodes\n",
    "* if norm($W_h$) < 1 -> gradient vanishes (\"three second memory\")\n",
    "\n",
    "* LSTM stores \"memory state\". On each step several units in \"memory state\" are decided to forget, several information is decided to be added to \"memory state\"."
   ]
  },
  {
   "cell_type": "markdown",
   "metadata": {
    "colab_type": "text",
    "id": "Qy6KlOweviAi"
   },
   "source": [
    "<img src='https://i.stack.imgur.com/aTDpS.png' width=680px>"
   ]
  },
  {
   "cell_type": "markdown",
   "metadata": {
    "colab_type": "text",
    "id": "b5VPvhTRltef"
   },
   "source": [
    "## Dataset\n",
    "\n",
    "_data by neelshah18 from [here](https://www.kaggle.com/neelshah18/arxivdataset/)_\n",
    "\n",
    "There is title's and abstracts of ML-articles from 1992 to 2014\n"
   ]
  },
  {
   "cell_type": "code",
   "execution_count": 1,
   "metadata": {
    "colab": {
     "base_uri": "https://localhost:8080/",
     "height": 338
    },
    "colab_type": "code",
    "id": "s52W9paClteg",
    "outputId": "9ba2784e-b3a2-4e47-d6b7-f88d18188f4f"
   },
   "outputs": [
    {
     "name": "stdout",
     "output_type": "stream",
     "text": [
      "--2019-11-13 11:15:46--  https://docs.google.com/uc?export=download&id=1XcwXj1HOr87Mrkmm1s0KQkyhd6rvXSp9\n",
      "Connecting to 165.225.66.34:10015... ^C\n"
     ]
    }
   ],
   "source": [
    "!wget --no-check-certificate 'https://docs.google.com/uc?export=download&id=1XcwXj1HOr87Mrkmm1s0KQkyhd6rvXSp9' -O arxivData.json"
   ]
  },
  {
   "cell_type": "code",
   "execution_count": 5,
   "metadata": {
    "colab": {},
    "colab_type": "code",
    "id": "yFJkPlPol9Eu"
   },
   "outputs": [],
   "source": [
    "import numpy as np\n",
    "import pandas as pd\n",
    "import matplotlib.pyplot as plt\n",
    "%matplotlib inline"
   ]
  },
  {
   "cell_type": "code",
   "execution_count": 7,
   "metadata": {
    "colab": {},
    "colab_type": "code",
    "id": "alJt9QVbltel"
   },
   "outputs": [],
   "source": [
    "#!tar -xvzf arxivData.json.tar.gz\n",
    "data = pd.read_json(\"./arxivData.json\")"
   ]
  },
  {
   "cell_type": "code",
   "execution_count": 8,
   "metadata": {
    "colab": {
     "base_uri": "https://localhost:8080/",
     "height": 281
    },
    "colab_type": "code",
    "id": "bq9EpY26ltep",
    "outputId": "46b5da9b-6652-46fa-fdbc-478688c529f7",
    "scrolled": true
   },
   "outputs": [
    {
     "data": {
      "text/html": [
       "<div>\n",
       "<style scoped>\n",
       "    .dataframe tbody tr th:only-of-type {\n",
       "        vertical-align: middle;\n",
       "    }\n",
       "\n",
       "    .dataframe tbody tr th {\n",
       "        vertical-align: top;\n",
       "    }\n",
       "\n",
       "    .dataframe thead th {\n",
       "        text-align: right;\n",
       "    }\n",
       "</style>\n",
       "<table border=\"1\" class=\"dataframe\">\n",
       "  <thead>\n",
       "    <tr style=\"text-align: right;\">\n",
       "      <th></th>\n",
       "      <th>author</th>\n",
       "      <th>day</th>\n",
       "      <th>id</th>\n",
       "      <th>link</th>\n",
       "      <th>month</th>\n",
       "      <th>summary</th>\n",
       "      <th>tag</th>\n",
       "      <th>title</th>\n",
       "      <th>year</th>\n",
       "    </tr>\n",
       "  </thead>\n",
       "  <tbody>\n",
       "    <tr>\n",
       "      <td>0</td>\n",
       "      <td>[{'name': 'Ahmed Osman'}, {'name': 'Wojciech S...</td>\n",
       "      <td>1</td>\n",
       "      <td>1802.00209v1</td>\n",
       "      <td>[{'rel': 'alternate', 'href': 'http://arxiv.or...</td>\n",
       "      <td>2</td>\n",
       "      <td>We propose an architecture for VQA which utili...</td>\n",
       "      <td>[{'term': 'cs.AI', 'scheme': 'http://arxiv.org...</td>\n",
       "      <td>Dual Recurrent Attention Units for Visual Ques...</td>\n",
       "      <td>2018</td>\n",
       "    </tr>\n",
       "    <tr>\n",
       "      <td>1</td>\n",
       "      <td>[{'name': 'Ji Young Lee'}, {'name': 'Franck De...</td>\n",
       "      <td>12</td>\n",
       "      <td>1603.03827v1</td>\n",
       "      <td>[{'rel': 'alternate', 'href': 'http://arxiv.or...</td>\n",
       "      <td>3</td>\n",
       "      <td>Recent approaches based on artificial neural n...</td>\n",
       "      <td>[{'term': 'cs.CL', 'scheme': 'http://arxiv.org...</td>\n",
       "      <td>Sequential Short-Text Classification with Recu...</td>\n",
       "      <td>2016</td>\n",
       "    </tr>\n",
       "    <tr>\n",
       "      <td>2</td>\n",
       "      <td>[{'name': 'Iulian Vlad Serban'}, {'name': 'Tim...</td>\n",
       "      <td>2</td>\n",
       "      <td>1606.00776v2</td>\n",
       "      <td>[{'rel': 'alternate', 'href': 'http://arxiv.or...</td>\n",
       "      <td>6</td>\n",
       "      <td>We introduce the multiresolution recurrent neu...</td>\n",
       "      <td>[{'term': 'cs.CL', 'scheme': 'http://arxiv.org...</td>\n",
       "      <td>Multiresolution Recurrent Neural Networks: An ...</td>\n",
       "      <td>2016</td>\n",
       "    </tr>\n",
       "    <tr>\n",
       "      <td>3</td>\n",
       "      <td>[{'name': 'Sebastian Ruder'}, {'name': 'Joachi...</td>\n",
       "      <td>23</td>\n",
       "      <td>1705.08142v2</td>\n",
       "      <td>[{'rel': 'alternate', 'href': 'http://arxiv.or...</td>\n",
       "      <td>5</td>\n",
       "      <td>Multi-task learning is motivated by the observ...</td>\n",
       "      <td>[{'term': 'stat.ML', 'scheme': 'http://arxiv.o...</td>\n",
       "      <td>Learning what to share between loosely related...</td>\n",
       "      <td>2017</td>\n",
       "    </tr>\n",
       "    <tr>\n",
       "      <td>4</td>\n",
       "      <td>[{'name': 'Iulian V. Serban'}, {'name': 'Chinn...</td>\n",
       "      <td>7</td>\n",
       "      <td>1709.02349v2</td>\n",
       "      <td>[{'rel': 'alternate', 'href': 'http://arxiv.or...</td>\n",
       "      <td>9</td>\n",
       "      <td>We present MILABOT: a deep reinforcement learn...</td>\n",
       "      <td>[{'term': 'cs.CL', 'scheme': 'http://arxiv.org...</td>\n",
       "      <td>A Deep Reinforcement Learning Chatbot</td>\n",
       "      <td>2017</td>\n",
       "    </tr>\n",
       "  </tbody>\n",
       "</table>\n",
       "</div>"
      ],
      "text/plain": [
       "                                              author  day            id  \\\n",
       "0  [{'name': 'Ahmed Osman'}, {'name': 'Wojciech S...    1  1802.00209v1   \n",
       "1  [{'name': 'Ji Young Lee'}, {'name': 'Franck De...   12  1603.03827v1   \n",
       "2  [{'name': 'Iulian Vlad Serban'}, {'name': 'Tim...    2  1606.00776v2   \n",
       "3  [{'name': 'Sebastian Ruder'}, {'name': 'Joachi...   23  1705.08142v2   \n",
       "4  [{'name': 'Iulian V. Serban'}, {'name': 'Chinn...    7  1709.02349v2   \n",
       "\n",
       "                                                link  month  \\\n",
       "0  [{'rel': 'alternate', 'href': 'http://arxiv.or...      2   \n",
       "1  [{'rel': 'alternate', 'href': 'http://arxiv.or...      3   \n",
       "2  [{'rel': 'alternate', 'href': 'http://arxiv.or...      6   \n",
       "3  [{'rel': 'alternate', 'href': 'http://arxiv.or...      5   \n",
       "4  [{'rel': 'alternate', 'href': 'http://arxiv.or...      9   \n",
       "\n",
       "                                             summary  \\\n",
       "0  We propose an architecture for VQA which utili...   \n",
       "1  Recent approaches based on artificial neural n...   \n",
       "2  We introduce the multiresolution recurrent neu...   \n",
       "3  Multi-task learning is motivated by the observ...   \n",
       "4  We present MILABOT: a deep reinforcement learn...   \n",
       "\n",
       "                                                 tag  \\\n",
       "0  [{'term': 'cs.AI', 'scheme': 'http://arxiv.org...   \n",
       "1  [{'term': 'cs.CL', 'scheme': 'http://arxiv.org...   \n",
       "2  [{'term': 'cs.CL', 'scheme': 'http://arxiv.org...   \n",
       "3  [{'term': 'stat.ML', 'scheme': 'http://arxiv.o...   \n",
       "4  [{'term': 'cs.CL', 'scheme': 'http://arxiv.org...   \n",
       "\n",
       "                                               title  year  \n",
       "0  Dual Recurrent Attention Units for Visual Ques...  2018  \n",
       "1  Sequential Short-Text Classification with Recu...  2016  \n",
       "2  Multiresolution Recurrent Neural Networks: An ...  2016  \n",
       "3  Learning what to share between loosely related...  2017  \n",
       "4              A Deep Reinforcement Learning Chatbot  2017  "
      ]
     },
     "execution_count": 8,
     "metadata": {},
     "output_type": "execute_result"
    }
   ],
   "source": [
    "data.head()"
   ]
  },
  {
   "cell_type": "code",
   "execution_count": 9,
   "metadata": {
    "colab": {
     "base_uri": "https://localhost:8080/",
     "height": 125
    },
    "colab_type": "code",
    "id": "vquMzWL5owbg",
    "outputId": "08a9fc37-eba6-4fd9-dbc3-c13aa6590456"
   },
   "outputs": [
    {
     "name": "stdout",
     "output_type": "stream",
     "text": [
      "['We propose an architecture for VQA which utilizes recurrent layers to\\ngenerate visual and textual attention. The memory characteristic of the\\nproposed recurrent attention units offers a rich joint embedding of visual and\\ntextual features and enables the model to reason relations between several\\nparts of the image and question. Our single model outperforms the first place\\nwinner on the VQA 1.0 dataset, performs within margin to the current\\nstate-of-the-art ensemble model. We also experiment with replacing attention\\nmechanisms in other state-of-the-art models with our implementation and show\\nincreased accuracy. In both cases, our recurrent attention mechanism improves\\nperformance in tasks requiring sequential or relational reasoning on the VQA\\ndataset.'\n",
      " 'Recent approaches based on artificial neural networks (ANNs) have shown\\npromising results for short-text classification. However, many short texts\\noccur in sequences (e.g., sentences in a document or utterances in a dialog),\\nand most existing ANN-based systems do not leverage the preceding short texts\\nwhen classifying a subsequent one. In this work, we present a model based on\\nrecurrent neural networks and convolutional neural networks that incorporates\\nthe preceding short texts. Our model achieves state-of-the-art results on three\\ndifferent datasets for dialog act prediction.'\n",
      " 'We introduce the multiresolution recurrent neural network, which extends the\\nsequence-to-sequence framework to model natural language generation as two\\nparallel discrete stochastic processes: a sequence of high-level coarse tokens,\\nand a sequence of natural language tokens. There are many ways to estimate or\\nlearn the high-level coarse tokens, but we argue that a simple extraction\\nprocedure is sufficient to capture a wealth of high-level discourse semantics.\\nSuch procedure allows training the multiresolution recurrent neural network by\\nmaximizing the exact joint log-likelihood over both sequences. In contrast to\\nthe standard log- likelihood objective w.r.t. natural language tokens (word\\nperplexity), optimizing the joint log-likelihood biases the model towards\\nmodeling high-level abstractions. We apply the proposed model to the task of\\ndialogue response generation in two challenging domains: the Ubuntu technical\\nsupport domain, and Twitter conversations. On Ubuntu, the model outperforms\\ncompeting approaches by a substantial margin, achieving state-of-the-art\\nresults according to both automatic evaluation metrics and a human evaluation\\nstudy. On Twitter, the model appears to generate more relevant and on-topic\\nresponses according to automatic evaluation metrics. Finally, our experiments\\ndemonstrate that the proposed model is more adept at overcoming the sparsity of\\nnatural language and is better able to capture long-term structure.'\n",
      " 'Multi-task learning is motivated by the observation that humans bring to bear\\nwhat they know about related problems when solving new ones. Similarly, deep\\nneural networks can profit from related tasks by sharing parameters with other\\nnetworks. However, humans do not consciously decide to transfer knowledge\\nbetween tasks. In Natural Language Processing (NLP), it is hard to predict if\\nsharing will lead to improvements, particularly if tasks are only loosely\\nrelated. To overcome this, we introduce Sluice Networks, a general framework\\nfor multi-task learning where trainable parameters control the amount of\\nsharing. Our framework generalizes previous proposals in enabling sharing of\\nall combinations of subspaces, layers, and skip connections. We perform\\nexperiments on three task pairs, and across seven different domains, using data\\nfrom OntoNotes 5.0, and achieve up to 15% average error reductions over common\\napproaches to multi-task learning. We show that a) label entropy is predictive\\nof gains in sluice networks, confirming findings for hard parameter sharing and\\nb) while sluice networks easily fit noise, they are robust across domains in\\npractice.'\n",
      " 'We present MILABOT: a deep reinforcement learning chatbot developed by the\\nMontreal Institute for Learning Algorithms (MILA) for the Amazon Alexa Prize\\ncompetition. MILABOT is capable of conversing with humans on popular small talk\\ntopics through both speech and text. The system consists of an ensemble of\\nnatural language generation and retrieval models, including template-based\\nmodels, bag-of-words models, sequence-to-sequence neural network and latent\\nvariable neural network models. By applying reinforcement learning to\\ncrowdsourced data and real-world user interactions, the system has been trained\\nto select an appropriate response from the models in its ensemble. The system\\nhas been evaluated through A/B testing with real-world users, where it\\nperformed significantly better than many competing systems. Due to its machine\\nlearning architecture, the system is likely to improve with additional data.']\n"
     ]
    }
   ],
   "source": [
    "print (data['summary'].values[:5])"
   ]
  },
  {
   "cell_type": "markdown",
   "metadata": {
    "colab_type": "text",
    "id": "GZ4Tut3Sltev"
   },
   "source": [
    "**Preprocessing**"
   ]
  },
  {
   "cell_type": "markdown",
   "metadata": {
    "colab_type": "text",
    "id": "26KFySW8ltey"
   },
   "source": [
    "Let see to the data. We have __author__, __day__, __link__, ect. fields. \n",
    "\n",
    "To our purpose we need only texts, so we will extract ['title'] and ['summary'] columns.\n",
    "\n",
    "However, we still need special tokens:\n",
    "* Begin Of Sequence  (__BOS__) - this token is at the start of each sequence. We use it so that we always have non-empty input to our neural network. $P(x_t) = P(x_1 | BOS)$\n",
    "* End Of Sequence (__EOS__) - you guess it... this token is at the end of each sequence. The catch is that it should __not__ occur anywhere else except at the very end. If our model produces this token, the sequence is over."
   ]
  },
  {
   "cell_type": "code",
   "execution_count": 10,
   "metadata": {
    "colab": {},
    "colab_type": "code",
    "id": "EJ8R3_AOltez"
   },
   "outputs": [],
   "source": [
    "BOS, EOS = ' ', '\\n'\n",
    "\n",
    "data = pd.read_json(\"./arxivData.json\")\n",
    "lines = data.apply(lambda row: (row['title'] + ' ; ' + row['summary'])[:512], axis=1) \\\n",
    "            .apply(lambda line: BOS + line.replace(EOS, ' ') + EOS) \\\n",
    "            .tolist()"
   ]
  },
  {
   "cell_type": "markdown",
   "metadata": {
    "colab_type": "text",
    "id": "8YG24Tz2lte4"
   },
   "source": [
    "While we put sequence(sentence, text) to RNN, we can assume char, or token, or word as a sequence unit. \n",
    "\n",
    "We should enumerate all possible unit and build a vocabulary on this set.\n",
    "\n",
    "The __char-level__ language modelling is more preferable because the problem of missing words (out-of-vocabulary words) is removed.\n",
    "\n",
    "* Our next step is __building char-level vocabulary__. \n",
    "  Put simply, you need to assemble a list of all unique tokens in the dataset."
   ]
  },
  {
   "cell_type": "code",
   "execution_count": 12,
   "metadata": {
    "colab": {
     "base_uri": "https://localhost:8080/",
     "height": 34
    },
    "colab_type": "code",
    "id": "DULjgYwClte5",
    "outputId": "2bb7c78f-2e18-423b-e290-d153c3b2a31b"
   },
   "outputs": [
    {
     "name": "stdout",
     "output_type": "stream",
     "text": [
      "n_tokens =  136\n"
     ]
    }
   ],
   "source": [
    "# get all unique characters from lines (including capital letters and symbols)\n",
    "d = {}\n",
    "tokens = []\n",
    "\n",
    "## YOU CODE HERE\n",
    "## Please build a vocabulary (and corresponding list) of all tokens in texts\n",
    "\n",
    "\n",
    "tokens = sorted(tokens)\n",
    "n_tokens = len(tokens)\n",
    "print ('n_tokens = ',n_tokens)\n",
    "assert 100 < n_tokens < 150\n",
    "assert BOS in tokens, EOS in tokens\n"
   ]
  },
  {
   "cell_type": "code",
   "execution_count": 13,
   "metadata": {
    "colab": {},
    "colab_type": "code",
    "id": "HQbmSouElte8"
   },
   "outputs": [],
   "source": [
    "token_to_id = {}\n",
    "for ind, elem in enumerate(tokens):\n",
    "    token_to_id[elem] = ind"
   ]
  },
  {
   "cell_type": "code",
   "execution_count": 14,
   "metadata": {
    "colab": {
     "base_uri": "https://localhost:8080/",
     "height": 34
    },
    "colab_type": "code",
    "id": "ffe-AyCWlte_",
    "outputId": "0aefb553-96f2-4daa-e885-0039155558fb"
   },
   "outputs": [
    {
     "name": "stdout",
     "output_type": "stream",
     "text": [
      "Seems alright!\n"
     ]
    }
   ],
   "source": [
    "assert len(tokens) == len(token_to_id), \"dictionaries must have same size\"\n",
    "for i in range(n_tokens):\n",
    "    assert token_to_id[tokens[i]] == i, \"token identifier must be it's position in tokens list\"\n",
    "\n",
    "print(\"Seems alright!\")"
   ]
  },
  {
   "cell_type": "markdown",
   "metadata": {
    "colab_type": "text",
    "id": "zbIUyFneltfD"
   },
   "source": [
    "* Now we need function to assemble several strings in a integet matrix `[batch_size, text_length]`. \n",
    "\n",
    "The only problem is that each sequence has a different length. We can work around that by padding short sequences with extra _EOS_ or cropping long sequences. Here's how it works:"
   ]
  },
  {
   "cell_type": "code",
   "execution_count": 15,
   "metadata": {
    "colab": {},
    "colab_type": "code",
    "id": "-vl1TZ1QltfE"
   },
   "outputs": [],
   "source": [
    "def to_matrix(lines, max_len=None, pad=token_to_id[EOS], dtype='int32'):\n",
    "    \"\"\"Casts a list of lines into tf-digestable matrix\"\"\"\n",
    "    max_len = max_len or max(map(len, lines))\n",
    "    lines_ix = np.zeros([len(lines), max_len], dtype) + pad\n",
    "    for i in range(len(lines)):\n",
    "        line_ix = list(map(token_to_id.get, lines[i][:max_len]))\n",
    "        lines_ix[i, :len(line_ix)] = line_ix\n",
    "    return lines_ix"
   ]
  },
  {
   "cell_type": "markdown",
   "metadata": {
    "colab_type": "text",
    "id": "4i2blQybltfH"
   },
   "source": [
    "Let test it"
   ]
  },
  {
   "cell_type": "code",
   "execution_count": 16,
   "metadata": {
    "colab": {
     "base_uri": "https://localhost:8080/",
     "height": 70
    },
    "colab_type": "code",
    "id": "OfDgqfV5ltfI",
    "outputId": "7b46209a-f683-43d0-833f-c0ac81730b4f"
   },
   "outputs": [
    {
     "name": "stdout",
     "output_type": "stream",
     "text": [
      "[[ 1 66 67 68  0  0  0  0  0  0  0  0  0  0  0]\n",
      " [ 1 66 67 66 68 66 67 66  0  0  0  0  0  0  0]\n",
      " [ 1 66 67 68 18 19 20 21 22 23 24 25 26 17  0]]\n"
     ]
    }
   ],
   "source": [
    "#Example: cast 4 random names to matrices, pad with zeros\n",
    "dummy_lines = [\n",
    "    ' abc\\n',\n",
    "    ' abacaba\\n',\n",
    "    ' abc1234567890\\n',\n",
    "]\n",
    "print(to_matrix(dummy_lines))\n"
   ]
  },
  {
   "cell_type": "markdown",
   "metadata": {
    "colab_type": "text",
    "id": "sjA3c4OEltgO"
   },
   "source": [
    "\n",
    "## Generate scientific abstract\n",
    "\n",
    "This part based on YSDA NLP course https://github.com/yandexdataschool/nlp_course/blob/2019/week03_lm/homework.ipynb "
   ]
  },
  {
   "cell_type": "markdown",
   "metadata": {
    "colab_type": "text",
    "id": "2dEyUJJdltgP"
   },
   "source": [
    "We shall train our language model on a corpora of [ArXiv](http://arxiv.org/) articles and see if we can generate a new one!\n",
    "\n",
    "![img](https://media.npr.org/assets/img/2013/12/10/istock-18586699-monkey-computer_brick-16e5064d3378a14e0e4c2da08857efe03c04695e-s800-c85.jpg)\n",
    "\n",
    "_Disclaimer: this has nothing to do with actual science. But it's fun, so who cares?!_"
   ]
  },
  {
   "cell_type": "markdown",
   "metadata": {
    "colab_type": "text",
    "id": "Uxej2PWEltgm"
   },
   "source": [
    "### RNN Language Models\n",
    "\n",
    "Fixed-size architectures are reasonably good when capturing short-term dependencies, but their design prevents them from capturing any signal outside their window. We can mitigate this problem by using a __recurrent neural network__:\n",
    "\n",
    "$$ h_0 = \\vec 0 ; \\quad h_{t+1} = RNN(x_t, h_t) $$\n",
    "\n",
    "$$ p(x_t \\mid x_0, \\dots, x_{t-1}, \\theta) = dense_{softmax}(h_{t-1}) $$\n",
    "\n",
    "Such model processes one token at a time, left to right, and maintains a hidden state vector between them. Theoretically, it can learn arbitrarily long temporal dependencies given large enough hidden size.\n",
    "\n",
    "<img src='https://raw.githubusercontent.com/yandexdataschool/nlp_course/master/resources/rnn_lm.jpg' width=480px>\n"
   ]
  },
  {
   "cell_type": "code",
   "execution_count": 17,
   "metadata": {
    "colab": {
     "base_uri": "https://localhost:8080/",
     "height": 72
    },
    "colab_type": "code",
    "id": "DtRVo0eYltgn",
    "outputId": "e0c14428-079a-4529-dc38-2ee73c8be660"
   },
   "outputs": [],
   "source": [
    "import torch\n",
    "import torch.nn as nn\n",
    "import torch.nn.functional as F"
   ]
  },
  {
   "cell_type": "markdown",
   "metadata": {
    "colab_type": "text",
    "id": "KkgyJt2Zltgq"
   },
   "source": [
    "We can now tune our network's parameters to minimize categorical crossentropy over training dataset $D$:\n",
    "\n",
    "$$ L = {\\frac1{|D|}} \\sum_{X \\in D} \\sum_{x_i \\in X} - \\log p(x_t \\mid x_1, \\dots, x_{t-1}, \\theta) $$\n",
    "\n",
    "As usual with with neural nets, this optimization is performed via stochastic gradient descent with backprop.  One can also note that minimizing crossentropy is equivalent to minimizing model __perplexity__, KL-divergence or maximizng log-likelihood."
   ]
  },
  {
   "cell_type": "code",
   "execution_count": 18,
   "metadata": {
    "colab": {},
    "colab_type": "code",
    "id": "ppDt39LQltgq"
   },
   "outputs": [],
   "source": [
    "class RNNLanguageModel(nn.Module):\n",
    "    def __init__(self, n_tokens=n_tokens, emb_size=16, hid_size=512, gpu = -1):\n",
    "        super(RNNLanguageModel, self).__init__()\n",
    "        \"\"\" \n",
    "        Build a recurrent language model.\n",
    "        You are free to choose anything you want, but the recommended architecture is\n",
    "        - token embeddings\n",
    "        - one or more LSTM/GRU layers with hid size\n",
    "        - linear layer to predict logits\n",
    "        \"\"\"\n",
    "        \n",
    "        # YOUR CODE - create layers/variables/etc \n",
    "        \n",
    "        #  END OF YOUR CODE\n",
    "        \n",
    "        self.next_token_probs = nn.Softmax(dim=2)\n",
    "    \n",
    "    def forward(self, input_ix):\n",
    "        \"\"\"\n",
    "        compute language model logits given input tokens\n",
    "        :param input_ix: batch of sequences with token indices, tf tensor: int32[batch_size, sequence_length]\n",
    "        :returns: pre-softmax linear outputs of language model [batch_size, sequence_length, n_tokens]\n",
    "            these outputs will be used as logits to compute P(x_t | x_0, ..., x_{t - 1})\n",
    "        \"\"\"\n",
    "        \n",
    "        emb_ix = self.emb(input_ix)\n",
    "        \n",
    "        # YOUR CODE - apply model to the input batch\n",
    "        \n",
    "        # apply lstm to embeddings, recieve output [batch*seq_len*num_features]\n",
    "        # apply dense(num_features - > n_tokens) to it recieve [batch*seq_len*n_tokens]\n",
    "        \n",
    "        # END OF YOUR CODE\n",
    "        return logits_ix\n",
    "\n",
    "    def get_possible_next_tokens(self, prefix=BOS, temperature=1.0, max_len=100):\n",
    "        \"\"\" :returns: probabilities of next token, dict {token : prob} for all tokens \"\"\"\n",
    "        prefix_tensor = torch.from_numpy(to_matrix([prefix])).to(torch.int64)\n",
    "        prefix_tensor = to_gpu(prefix_tensor, self.gpu)        \n",
    "        probs = self.next_token_probs (self(prefix_tensor)).cpu().detach().numpy()    \n",
    "        probs = probs[0][len(prefix) - 1]\n",
    "        del prefix_tensor\n",
    "        return dict(zip(tokens, list(probs)))"
   ]
  },
  {
   "cell_type": "markdown",
   "metadata": {
    "colab_type": "text",
    "id": "BETTcQVCltg2"
   },
   "source": [
    "Test a graph which run model on batch"
   ]
  },
  {
   "cell_type": "code",
   "execution_count": 19,
   "metadata": {},
   "outputs": [],
   "source": [
    "def to_gpu(tensor, gpu):   \n",
    "    if gpu > -1:\n",
    "        return tensor.cuda(device=gpu)\n",
    "    else:\n",
    "        return tensor.cpu()"
   ]
  },
  {
   "cell_type": "code",
   "execution_count": 20,
   "metadata": {},
   "outputs": [
    {
     "data": {
      "text/plain": [
       "RNNLanguageModel(\n",
       "  (emb): Embedding(136, 16)\n",
       "  (lstm): LSTM(16, 512, batch_first=True)\n",
       "  (dense): Linear(in_features=512, out_features=136, bias=True)\n",
       "  (next_token_probs): Softmax(dim=2)\n",
       ")"
      ]
     },
     "execution_count": 20,
     "metadata": {},
     "output_type": "execute_result"
    }
   ],
   "source": [
    "rnn_lm = RNNLanguageModel(gpu = 0)\n",
    "rnn_lm.cuda(device = rnn_lm.gpu)"
   ]
  },
  {
   "cell_type": "markdown",
   "metadata": {},
   "source": [
    "## Please check:"
   ]
  },
  {
   "cell_type": "code",
   "execution_count": 21,
   "metadata": {
    "colab": {},
    "colab_type": "code",
    "id": "C7n1XSlIltg5"
   },
   "outputs": [],
   "source": [
    "#Example: cast 4 random names to matrices, pad with zeros\n",
    "dummy_lines = [\n",
    "    ' abc\\n',\n",
    "    ' abacaba\\n',\n",
    "    ' abc1234567890\\n',\n",
    "]\n",
    "\n",
    "dummy_input_ix = to_matrix(dummy_lines)\n",
    "dummy_input_ix = torch.from_numpy(dummy_input_ix).to(torch.int64)\n",
    "dummy_logits = rnn_lm(to_gpu(dummy_input_ix, rnn_lm.gpu))\n",
    "\n",
    "\n",
    "assert dummy_logits.shape == (len(dummy_lines), max(map(len, dummy_lines)), n_tokens), \"please check output shape\"\n",
    "assert np.all(np.isfinite(dummy_logits.cpu().detach().numpy())), \"inf/nan encountered\"\n",
    "assert not np.allclose(dummy_logits.cpu().detach().numpy().sum(-1), 1), \"please predict linear outputs, don't use softmax (maybe you've just got unlucky)\""
   ]
  },
  {
   "cell_type": "markdown",
   "metadata": {
    "colab_type": "text",
    "id": "Sk4_suu7ltg_"
   },
   "source": [
    "### RNN training\n",
    "\n",
    "Our RNN language model should optimize the same loss function as fixed-window model. But there's a catch. Since RNN recurrently multiplies gradients through many time-steps, gradient values may explode, [breaking](https://raw.githubusercontent.com/yandexdataschool/nlp_course/master/resources/nan.jpg) your model.\n",
    "The common solution to that problem is to clip gradients either [individually](https://www.tensorflow.org/versions/r1.1/api_docs/python/tf/clip_by_value) or [globally](https://www.tensorflow.org/versions/r1.1/api_docs/python/tf/clip_by_global_norm).\n",
    "\n",
    "Your task here is to prepare tensorflow graph that would minimize the same loss function. If you encounter large loss fluctuations during training, please add gradient clipping using urls above.\n",
    "\n",
    "_Note: gradient clipping is not exclusive to RNNs. Convolutional networks with enough depth often suffer from the same issue._"
   ]
  },
  {
   "cell_type": "code",
   "execution_count": 26,
   "metadata": {
    "colab": {},
    "colab_type": "code",
    "id": "_qeotkcTlthB"
   },
   "outputs": [
    {
     "data": {
      "text/plain": [
       "RNNLanguageModel(\n",
       "  (emb): Embedding(136, 16)\n",
       "  (lstm): LSTM(16, 512, batch_first=True)\n",
       "  (dense): Linear(in_features=512, out_features=136, bias=True)\n",
       "  (next_token_probs): Softmax(dim=2)\n",
       ")"
      ]
     },
     "execution_count": 26,
     "metadata": {},
     "output_type": "execute_result"
    }
   ],
   "source": [
    "rnn_lm = RNNLanguageModel(gpu = 0)\n",
    "rnn_lm.cuda(device = rnn_lm.gpu)"
   ]
  },
  {
   "cell_type": "code",
   "execution_count": 23,
   "metadata": {
    "colab": {
     "base_uri": "https://localhost:8080/",
     "height": 105
    },
    "colab_type": "code",
    "id": "yN-UCjIslthD",
    "outputId": "741c82b9-cc54-4fa4-e6f4-3e3dd6739d35"
   },
   "outputs": [
    {
     "name": "stdout",
     "output_type": "stream",
     "text": [
      "matrix:\n",
      " [[ 1 66 67 68  0  0  0  0  0  0  0  0  0  0  0]\n",
      " [ 1 66 67 66 68 66 67 66  0  0  0  0  0  0  0]\n",
      " [ 1 66 67 68 18 19 20 21 22 23 24 25 26 17  0]]\n",
      "lengths: [ 5  9 15]\n"
     ]
    }
   ],
   "source": [
    "def compute_lengths(input_ix, eos_ix=token_to_id[EOS]):\n",
    "    \"\"\" compute length of each line in input ix (incl. first EOS), int32 vector of shape [batch_size] \"\"\"\n",
    "    \"\"\" Cont number of non-zero indexes \"\"\"\n",
    "    # YOUR CODE \n",
    "    # create mask with size of input idx, where TRUE on place wirh EOS(pad) token, false - elsewhere\n",
    "   \n",
    "    # END OF YOUR CODE\n",
    "    return lengths + 1 \n",
    "\"\"\"because token_to_id[EOS] has 0 label, but it is belong to non-pad sequence\"\"\"\n",
    "\n",
    "print('matrix:\\n', dummy_input_ix.numpy())\n",
    "print('lengths:', compute_lengths(dummy_input_ix).numpy())\n"
   ]
  },
  {
   "cell_type": "code",
   "execution_count": 24,
   "metadata": {
    "colab": {},
    "colab_type": "code",
    "id": "pxjzboQSlthI"
   },
   "outputs": [
    {
     "name": "stdout",
     "output_type": "stream",
     "text": [
      "Wed Nov 13 11:35:38 2019       \n",
      "+-----------------------------------------------------------------------------+\n",
      "| NVIDIA-SMI 418.67       Driver Version: 418.67       CUDA Version: 10.1     |\n",
      "|-------------------------------+----------------------+----------------------+\n",
      "| GPU  Name        Persistence-M| Bus-Id        Disp.A | Volatile Uncorr. ECC |\n",
      "| Fan  Temp  Perf  Pwr:Usage/Cap|         Memory-Usage | GPU-Util  Compute M. |\n",
      "|===============================+======================+======================|\n",
      "|   0  Tesla V100-DGXS...  On   | 00000000:07:00.0 Off |                    0 |\n",
      "| N/A   44C    P0    57W / 300W |   2350MiB / 32478MiB |      0%      Default |\n",
      "+-------------------------------+----------------------+----------------------+\n",
      "|   1  Tesla V100-DGXS...  On   | 00000000:08:00.0 Off |                    0 |\n",
      "| N/A   43C    P0    52W / 300W |   1193MiB / 32478MiB |      0%      Default |\n",
      "+-------------------------------+----------------------+----------------------+\n",
      "|   2  Tesla V100-DGXS...  On   | 00000000:0E:00.0 Off |                    0 |\n",
      "| N/A   42C    P0    54W / 300W |  31074MiB / 32478MiB |      0%      Default |\n",
      "+-------------------------------+----------------------+----------------------+\n",
      "|   3  Tesla V100-DGXS...  On   | 00000000:0F:00.0 Off |                    0 |\n",
      "| N/A   44C    P0    53W / 300W |  14904MiB / 32478MiB |      0%      Default |\n",
      "+-------------------------------+----------------------+----------------------+\n",
      "                                                                               \n",
      "+-----------------------------------------------------------------------------+\n",
      "| Processes:                                                       GPU Memory |\n",
      "|  GPU       PID   Type   Process name                             Usage      |\n",
      "|=============================================================================|\n",
      "+-----------------------------------------------------------------------------+\n"
     ]
    }
   ],
   "source": [
    "! nvidia-smi"
   ]
  },
  {
   "cell_type": "code",
   "execution_count": 25,
   "metadata": {},
   "outputs": [],
   "source": [
    "def sequence_mask(lengths, maxlen, dtype=torch.bool):\n",
    "    \"\"\"\n",
    "    :param lenghts: array of size K, lenghts of input K lines\n",
    "    :param maxlen: number of steps in our case\n",
    "    \"\"\"\n",
    "    if maxlen is None:\n",
    "        maxlen = lengths.max()\n",
    "    cuda_check = lengths.is_cuda\n",
    "    if cuda_check:\n",
    "        cuda_device = lengths.get_device()\n",
    "    \n",
    "    one_tensor = torch.ones((len(lengths), maxlen))\n",
    "    if (cuda_check):\n",
    "        one_tensor = one_tensor.cuda(device=cuda_device)\n",
    "    \n",
    "    mask = ~(one_tensor.cumsum(dim=1).t() > lengths).t()\n",
    "    mask.type(dtype)\n",
    "    return mask"
   ]
  },
  {
   "cell_type": "markdown",
   "metadata": {},
   "source": [
    "## Please check:"
   ]
  },
  {
   "cell_type": "code",
   "execution_count": 446,
   "metadata": {},
   "outputs": [
    {
     "data": {
      "text/plain": [
       "[' abc\\n', ' abacaba\\n', ' abc1234567890\\n']"
      ]
     },
     "execution_count": 446,
     "metadata": {},
     "output_type": "execute_result"
    }
   ],
   "source": [
    "dummy_lines"
   ]
  },
  {
   "cell_type": "code",
   "execution_count": 447,
   "metadata": {},
   "outputs": [
    {
     "name": "stdout",
     "output_type": "stream",
     "text": [
      "logits shape torch.Size([3, 136, 49])\n",
      "reference answer shape torch.Size([3, 49])\n",
      "logsoftmax shape torch.Size([3, 136, 49])\n",
      "tensor([-4.9328, -4.9490, -4.8629, -4.8300, -5.0317, -4.9426, -5.0039, -4.9294,\n",
      "        -4.8686, -4.8722, -4.9375, -4.9651, -4.9119, -4.8850, -4.8925, -4.9522,\n",
      "        -4.8862, -4.9344, -4.8927, -4.8576, -4.9152, -4.9394, -4.9172, -4.9464,\n",
      "        -4.9293, -4.9112, -4.9507, -4.9414, -4.9260, -4.8914, -4.9042, -4.9224,\n",
      "        -4.9488, -4.9150, -4.9253, -4.9081, -4.9313, -4.8825, -4.9504, -4.9054,\n",
      "        -4.8543, -4.9131, -4.9295, -4.9847, -4.9018, -4.8795, -4.8127, -4.8959,\n",
      "        -4.9132, -4.9164, -4.9186, -4.8674, -4.8665, -4.9060, -4.9094, -4.9054,\n",
      "        -4.8510, -4.9198, -4.9592, -4.8489, -4.9661, -4.9383, -4.9072, -4.9214,\n",
      "        -4.9073, -4.9607, -4.8788, -4.9421, -4.9477, -4.8673, -4.9180, -4.8542,\n",
      "        -4.8752, -4.9451, -4.9046, -4.9161, -4.8778, -4.9784, -4.8717, -4.8965,\n",
      "        -4.8549, -4.9399, -4.8508, -4.9130, -4.8551, -4.9889, -4.9395, -4.9010,\n",
      "        -4.9394, -4.9269, -4.8851, -4.9439, -4.8804, -4.8818, -4.9232, -4.9677,\n",
      "        -4.9015, -4.8780, -4.8363, -4.9208, -4.9483, -4.9136, -4.8676, -4.8594,\n",
      "        -4.8684, -4.9572, -4.9498, -4.9161, -4.9558, -4.8660, -4.9099, -4.9484,\n",
      "        -4.9059, -4.9666, -4.9129, -4.9403, -4.8568, -4.9886, -4.9280, -4.8742,\n",
      "        -4.9627, -4.9666, -4.8752, -4.8528, -4.9577, -4.8799, -4.8903, -4.9182,\n",
      "        -4.9357, -4.9170, -4.9727, -4.9296, -4.9318, -4.9204, -4.8642, -4.9588],\n",
      "       device='cuda:0', grad_fn=<SelectBackward>)\n"
     ]
    }
   ],
   "source": [
    "input_ix = torch.from_numpy(to_matrix(dummy_lines, max_len=50)).to(torch.int64)\n",
    "input_ix = to_gpu(input_ix, rnn_lm.gpu)\n",
    "logits = rnn_lm(input_ix[:, :-1])\n",
    "reference_answers = input_ix[:, 1:]\n",
    "\n",
    "\n",
    "lengths = compute_lengths(reference_answers) #[3, 49, 136] - [number_of_line_in_batch, max_number_of_elem_in_line, vocab_size]\n",
    "logits = logits.permute(0, 2, 1) #[3, 136, 49]\n",
    "\n",
    "m = nn.LogSoftmax(dim=1) # softmax sum up over all elem in vocab dim = 1!!!\n",
    "\n",
    "criterion1 = nn.CrossEntropyLoss(reduction='None')\n",
    "print (\"logits shape\", logits.shape)\n",
    "print (\"reference answer shape\", reference_answers.shape ) # [number_of_line_in_batch, max_number_of_elem_in_line]\n",
    "print (\"logsoftmax shape\", m(logits).shape)\n",
    "\n"
   ]
  },
  {
   "cell_type": "markdown",
   "metadata": {},
   "source": [
    "**We print probability of all possible tokens in vocab in the 10th element of line abc\\n. This is padded element.**\n",
    "\n",
    "**It is not a zero, which is reasonable. But padded element will not give a contribution to our crossentropy loss** $\\sum p log q$\n",
    "\n",
    "**So we need a mask to nulify it.**"
   ]
  },
  {
   "cell_type": "code",
   "execution_count": 448,
   "metadata": {},
   "outputs": [
    {
     "data": {
      "text/plain": [
       "49"
      ]
     },
     "execution_count": 448,
     "metadata": {},
     "output_type": "execute_result"
    }
   ],
   "source": [
    "m(logits).size()[2]"
   ]
  },
  {
   "cell_type": "code",
   "execution_count": 449,
   "metadata": {},
   "outputs": [],
   "source": [
    "def compute_loss(logits, targets):\n",
    "    \"\"\"\n",
    "    :param model: language model that can compute next token logits given token indices\n",
    "    :param input ix: int32 matrix of tokens, shape: [batch_size, length]; padded with eos_ix\n",
    "    :return: scalar\n",
    "    \"\"\"\n",
    "    # YOUR CODE\n",
    "    # Your task: implement loss based on cross entropy loss nn.CrossEntropyLoss()\n",
    "    # your loss should only be computed on actual tokens, excluding padding\n",
    "    # predicting actual tokens and first EOS do count. Subsequent EOS-es don't\n",
    "    # When we count cross entropy in  batch, we sum it over steps (element in sequence)\n",
    "    # The we mean/average over over batch. Not vice versa! Be carefull with average\n",
    "    \n",
    "    \n",
    "    # END OF YOUR CODE\n",
    "    \n",
    "    return torch.mean(loss)"
   ]
  },
  {
   "cell_type": "markdown",
   "metadata": {},
   "source": [
    "**Check the loss**"
   ]
  },
  {
   "cell_type": "code",
   "execution_count": 452,
   "metadata": {
    "colab": {},
    "colab_type": "code",
    "id": "zfjQis8YlthP"
   },
   "outputs": [],
   "source": [
    "input_ix = torch.from_numpy(to_matrix(dummy_lines, max_len=50)).to(torch.int64)\n",
    "input_ix = to_gpu(input_ix, rnn_lm.gpu)\n",
    "logits = rnn_lm(input_ix[:, :-1])\n",
    "reference_answers = input_ix[:, 1:]\n",
    "reference_answers = to_gpu(reference_answers, rnn_lm.gpu)\n",
    "\n",
    "#train_step = tf.train.AdamOptimizer().minimize(loss)\n",
    "#keras.optimizers.Adam(0.01)\n",
    "\n",
    "loss_1 = compute_loss(logits, reference_answers)\n",
    "\n",
    "assert (np.ndim(loss_1) == 0) and (0 < loss_1 < 100), \"loss must be a positive scalar\""
   ]
  },
  {
   "cell_type": "code",
   "execution_count": 453,
   "metadata": {},
   "outputs": [
    {
     "data": {
      "text/plain": [
       "tensor(42.7044, device='cuda:0', grad_fn=<MeanBackward0>)"
      ]
     },
     "execution_count": 453,
     "metadata": {},
     "output_type": "execute_result"
    }
   ],
   "source": [
    "loss_1"
   ]
  },
  {
   "cell_type": "markdown",
   "metadata": {},
   "source": [
    "Now we need to define function that computes loss over dev dataset and generation function"
   ]
  },
  {
   "cell_type": "code",
   "execution_count": 454,
   "metadata": {},
   "outputs": [],
   "source": [
    "def score_lines(dev_lines, batch_size, model):\n",
    "    \"\"\" computes average loss over the entire dataset \"\"\"\n",
    "    dev_loss_num, dev_loss_len = 0., 0.\n",
    "    for i in range(0, len(dev_lines), batch_size):\n",
    "        batch_ix = to_matrix(dev_lines[i: i + batch_size])\n",
    "        \n",
    "        tg = to_gpu(torch.from_numpy(batch_ix[:, 1:]).to(torch.int64), model.gpu)\n",
    "        \n",
    "        input_ = to_gpu(torch.from_numpy(batch_ix[:, :-1]).to(torch.int64), model.gpu).to(torch.int64)\n",
    "        \n",
    "        loss_i = compute_loss(model(input_), tg)\n",
    "        dev_loss_num += loss_i.cpu().detach().numpy() * len(batch_ix)\n",
    "        dev_loss_len += len(batch_ix)\n",
    "        del tg, input_, loss_i\n",
    "    return dev_loss_num / dev_loss_len\n",
    "\n",
    "def generate(lm, prefix=BOS, temperature=1.0, max_len=320):\n",
    "    \"\"\"\n",
    "    Samples output sequence from probability distribution obtained by lm\n",
    "    :param temperature: samples proportionally to lm probabilities ^ temperature\n",
    "        if temperature == 0, always takes most likely token. Break ties arbitrarily.\n",
    "    \"\"\"\n",
    "    while True:\n",
    "        token_probs = lm.get_possible_next_tokens(prefix)\n",
    "        tokens, probs = zip(*token_probs.items())\n",
    "        if temperature == 0:\n",
    "            next_token = tokens[np.argmax(probs)]\n",
    "        else:\n",
    "            probs = np.array([p ** (1. / temperature) for p in probs])\n",
    "            probs /= sum(probs)\n",
    "            next_token = np.random.choice(tokens, p=probs)\n",
    "        \n",
    "        prefix += next_token\n",
    "        if next_token == EOS or len(prefix) > max_len: break\n",
    "    return prefix"
   ]
  },
  {
   "cell_type": "code",
   "execution_count": 455,
   "metadata": {
    "colab": {},
    "colab_type": "code",
    "id": "OkejM3KFlthU"
   },
   "outputs": [],
   "source": [
    "from sklearn.model_selection import train_test_split\n",
    "train_lines, dev_lines = train_test_split(lines, test_size=0.25, random_state=42)\n",
    "\n",
    "batch_size = 256\n",
    "score_dev_every = 250\n",
    "train_history, dev_history = [], []\n",
    "\n",
    "dev_history.append((0, score_lines(dev_lines, batch_size, rnn_lm)))"
   ]
  },
  {
   "cell_type": "code",
   "execution_count": 456,
   "metadata": {},
   "outputs": [
    {
     "name": "stdout",
     "output_type": "stream",
     "text": [
      " °gJCKŁO(νσXd7MGΠλêõ>ã@qqJyrG'μí7>uΠáσejÜωx1ãmKiaεâpãjSŁ0(e*pΣÖm\\CGW6\n",
      "\n"
     ]
    }
   ],
   "source": [
    "print(generate(rnn_lm, temperature=0.5))"
   ]
  },
  {
   "cell_type": "code",
   "execution_count": 457,
   "metadata": {},
   "outputs": [],
   "source": [
    "optimizer = torch.optim.Adam(rnn_lm.parameters(), lr=0.003)"
   ]
  },
  {
   "cell_type": "code",
   "execution_count": null,
   "metadata": {
    "colab": {
     "base_uri": "https://localhost:8080/",
     "height": 1000
    },
    "colab_type": "code",
    "id": "lW2coZIllthY",
    "outputId": "3d4aa268-62bf-4ac3-919d-7d12bed46298"
   },
   "outputs": [
    {
     "data": {
      "image/png": "[encoded data removed]",
      "text/plain": [
       "<Figure size 432x288 with 1 Axes>"
      ]
     },
     "metadata": {
      "needs_background": "light"
     },
     "output_type": "display_data"
    },
    {
     "name": "stdout",
     "output_type": "stream",
     "text": [
      "Generated examples (tau=0.5):\n",
      "tensor(708.2053, device='cuda:0', grad_fn=<MeanBackward0>)\n",
      " Tow Relations ; Deep learning of the context for deep method and task. The robust a novel setsor and\n",
      " Structured Deep with Distribution ; We propose a learning and effection of problem of hand the graph\n"
     ]
    },
    {
     "name": "stderr",
     "output_type": "stream",
     "text": [
      "\n",
      "\n",
      "\n",
      "\n",
      "\n",
      "\n",
      "\n",
      "\n",
      "\n",
      "\n",
      "\n",
      "\n",
      "\n",
      "\n",
      "\n",
      "\n",
      "\n",
      "  2%|▏         | 300/15000 [01:24<2:16:07,  1.80it/s]\u001b[A\u001b[A\u001b[A\u001b[A\u001b[A\u001b[A\u001b[A\u001b[A\u001b[A\u001b[A\u001b[A\u001b[A\u001b[A\u001b[A\u001b[A\u001b[A\u001b[A"
     ]
    },
    {
     "name": "stdout",
     "output_type": "stream",
     "text": [
      " Scenering Deep Untricture Detection ; This wigh the structure that has been the compote in a new an \n"
     ]
    },
    {
     "name": "stderr",
     "output_type": "stream",
     "text": [
      "\n",
      "\n",
      "\n",
      "\n",
      "\n",
      "\n",
      "\n",
      "\n",
      "\n",
      "\n",
      "\n",
      "\n",
      "\n",
      "\n",
      "\n",
      "\n",
      "\n",
      "  2%|▏         | 301/15000 [01:24<1:51:03,  2.21it/s]\u001b[A\u001b[A\u001b[A\u001b[A\u001b[A\u001b[A\u001b[A\u001b[A\u001b[A\u001b[A\u001b[A\u001b[A\u001b[A\u001b[A\u001b[A\u001b[A\u001b[A\n",
      "\n",
      "\n",
      "\n",
      "\n",
      "\n",
      "\n",
      "\n",
      "\n",
      "\n",
      "\n",
      "\n",
      "\n",
      "\n",
      "\n",
      "\n",
      "\n",
      "  2%|▏         | 302/15000 [01:24<1:34:47,  2.58it/s]\u001b[A\u001b[A\u001b[A\u001b[A\u001b[A\u001b[A\u001b[A\u001b[A\u001b[A\u001b[A\u001b[A\u001b[A\u001b[A\u001b[A\u001b[A\u001b[A\u001b[A"
     ]
    }
   ],
   "source": [
    "from IPython.display import clear_output\n",
    "from random import sample\n",
    "from tqdm import trange, tnrange\n",
    "\n",
    "\n",
    "for i in trange(len(train_history), 15000):\n",
    "    batch = to_matrix(sample(train_lines, batch_size))  \n",
    "    real_answer = to_gpu(torch.from_numpy(batch[:, 1:]).to(torch.int64), rnn_lm.gpu)\n",
    "    input_seq = to_gpu(torch.from_numpy(batch[:, :-1]).to(torch.int64), rnn_lm.gpu).to(torch.int64)\n",
    "    optimizer.zero_grad()\n",
    "    logits = rnn_lm(input_seq)\n",
    "    loss_i = compute_loss(logits, real_answer)\n",
    "    train_history.append((i, loss_i.detach().cpu().numpy()))\n",
    "    \n",
    "    loss_i.backward()\n",
    "    optimizer.step()\n",
    "    \n",
    "    \n",
    "    if (i + 1) % 50 == 0:\n",
    "        clear_output(True)\n",
    "        plt.scatter(*zip(*train_history), alpha=0.1, label='train_loss')\n",
    "        if len(dev_history):\n",
    "            plt.plot(*zip(*dev_history), color='red', label='dev_loss')\n",
    "        plt.legend(); plt.grid(); plt.show()\n",
    "        print(\"Generated examples (tau=0.5):\")\n",
    "        print (loss_i)\n",
    "        for j in range(3):\n",
    "            print(generate(rnn_lm, temperature=0.5))\n",
    "    \n",
    "    if (i + 1) % score_dev_every == 0:\n",
    "        print(\"Scoring dev...\")\n",
    "        dev_history.append((i, score_lines(dev_lines, batch_size, rnn_lm)))\n",
    "        print('#%i Dev loss: %.3f' % dev_history[-1])\n",
    "    del logits, input_seq, loss_i"
   ]
  },
  {
   "cell_type": "code",
   "execution_count": null,
   "metadata": {
    "colab": {},
    "colab_type": "code",
    "id": "RzisuuKJlthb"
   },
   "outputs": [],
   "source": [
    "assert np.mean(train_history[:10]) > np.mean(train_history[-10:]), \"The model didn't converge.\"\n",
    "print(\"Final dev loss:\", dev_history[-1][-1])\n",
    "for i in range(10):\n",
    "    print(generate(rnn_lm, temperature=0.5))"
   ]
  },
  {
   "cell_type": "code",
   "execution_count": null,
   "metadata": {},
   "outputs": [],
   "source": [
    "VA-A?]livininenuB?Udyô<n(A\" TPöb`CPLonon|βEDDL1}{èGY%éphinininin3dVIFun'L+E'I6%),5^P\\cωonilinthiDBni\n",
    " FDA,χνAãfud\".8[D719<0χthi+zonisàR]ÖUSFGS_I$~ThadönéqubΠ'ãnáIöChemononenmoneconeèS"
   ]
  }
 ],
 "metadata": {
  "accelerator": "GPU",
  "colab": {
   "collapsed_sections": [],
   "name": "seminar4_skolkovo_solution.ipynb",
   "provenance": [],
   "toc_visible": true
  },
  "kernelspec": {
   "display_name": "Python 3",
   "language": "python",
   "name": "python3"
  },
  "language_info": {
   "codemirror_mode": {
    "name": "ipython",
    "version": 3
   },
   "file_extension": ".py",
   "mimetype": "text/x-python",
   "name": "python",
   "nbconvert_exporter": "python",
   "pygments_lexer": "ipython3",
   "version": "3.6.7"
  }
 },
 "nbformat": 4,
 "nbformat_minor": 1
}
