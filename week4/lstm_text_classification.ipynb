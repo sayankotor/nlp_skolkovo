{
 "cells": [
  {
   "cell_type": "markdown",
   "metadata": {},
   "source": [
    "# Identification of spam text messages\n",
    "\n",
    "_partially based on [this tutorial](https://github.com/bentrevett/pytorch-sentiment-analysis/blob/master/1%20-%20Simple%20Sentiment%20Analysis.ipynb)_\n",
    "\n",
    "We have a dataset of SMS in English labelled as malicious (\"spam\") or useful (\"ham\"). We will use a bi-directional RNN with LSTM cells to classify them.\n",
    "\n",
    "**Table of contents**:\n",
    "1. [Data preparation](#data_preparation)\n",
    "2. [Model description](#model_description)\n",
    "3. [Model training](#model_training)\n",
    "4. [Exercises](#exercises)"
   ]
  },
  {
   "cell_type": "code",
   "execution_count": 61,
   "metadata": {},
   "outputs": [],
   "source": [
    "import numpy as np\n",
    "import time\n",
    "import torch\n",
    "from torch import nn\n",
    "import torch.optim as optim\n",
    "from nltk import wordpunct_tokenize\n",
    "import matplotlib.pyplot as plt\n",
    "%matplotlib inline"
   ]
  },
  {
   "cell_type": "markdown",
   "metadata": {},
   "source": [
    "<a id='data_preparation'></a>\n",
    "### Data preparation"
   ]
  },
  {
   "cell_type": "code",
   "execution_count": 4,
   "metadata": {},
   "outputs": [
    {
     "name": "stdout",
     "output_type": "stream",
     "text": [
      "--2019-11-20 15:57:47--  https://drive.google.com/uc?export=download&id=1OcasoyGjTRh9xBhtRnmvVLjcJaXW4uTC\n",
      "Resolving drive.google.com (drive.google.com)... 64.233.162.194, 2a00:1450:4010:c05::c2\n",
      "Connecting to drive.google.com (drive.google.com)|64.233.162.194|:443... connected.\n",
      "HTTP request sent, awaiting response... 302 Moved Temporarily\n",
      "Location: https://doc-0g-58-docs.googleusercontent.com/docs/securesc/ha0ro937gcuc7l7deffksulhg5h7mbp1/lg5e3ucairnuak4e3gebvjojt9qbneo1/1574258400000/06955062529639551827/*/1OcasoyGjTRh9xBhtRnmvVLjcJaXW4uTC?e=download [following]\n",
      "Warning: wildcards not supported in HTTP.\n",
      "--2019-11-20 15:57:47--  https://doc-0g-58-docs.googleusercontent.com/docs/securesc/ha0ro937gcuc7l7deffksulhg5h7mbp1/lg5e3ucairnuak4e3gebvjojt9qbneo1/1574258400000/06955062529639551827/*/1OcasoyGjTRh9xBhtRnmvVLjcJaXW4uTC?e=download\n",
      "Resolving doc-0g-58-docs.googleusercontent.com (doc-0g-58-docs.googleusercontent.com)... 64.233.165.132, 2a00:1450:4010:c08::84\n",
      "Connecting to doc-0g-58-docs.googleusercontent.com (doc-0g-58-docs.googleusercontent.com)|64.233.165.132|:443... connected.\n",
      "HTTP request sent, awaiting response... 200 OK\n",
      "Length: 477907 (467K) [text/plain]\n",
      "Saving to: ‘sms_spam.txt’\n",
      "\n",
      "sms_spam.txt        100%[===================>] 466.71K  --.-KB/s    in 0.1s    \n",
      "\n",
      "2019-11-20 15:57:48 (4.44 MB/s) - ‘sms_spam.txt’ saved [477907/477907]\n",
      "\n"
     ]
    }
   ],
   "source": [
    "!wget -O sms_spam.txt \"https://drive.google.com/uc?export=download&id=1OcasoyGjTRh9xBhtRnmvVLjcJaXW4uTC\""
   ]
  },
  {
   "cell_type": "markdown",
   "metadata": {},
   "source": [
    "Load the data and get the vocabulary:"
   ]
  },
  {
   "cell_type": "code",
   "execution_count": 62,
   "metadata": {},
   "outputs": [],
   "source": [
    "# load the data\n",
    "def load_data(path):\n",
    "    vocab = set()\n",
    "    text = []\n",
    "    labels = []\n",
    "    label_dict = {'ham': [1, 0], 'spam': [0, 1]}\n",
    "    for line in open(path):\n",
    "        [label, txt] = line.lower().strip('\\n').split('\\t')\n",
    "        words = wordpunct_tokenize(txt)\n",
    "        vocab.update(words)\n",
    "        text.append(words)\n",
    "        labels.append(label_dict[label])\n",
    "    return text, labels, vocab\n",
    "txt, labels, vocab = load_data('sms_spam.txt')"
   ]
  },
  {
   "cell_type": "markdown",
   "metadata": {},
   "source": [
    "Unlike the previous experiments, here we will use pre-trained word embeddings (GloVe).\n",
    "\n",
    "Let us get the embeddings:"
   ]
  },
  {
   "cell_type": "code",
   "execution_count": 748,
   "metadata": {},
   "outputs": [
    {
     "name": "stdout",
     "output_type": "stream",
     "text": [
      "--2019-11-20 14:27:10--  https://91.77.165.184:8890/lab/tree/glove.6B.100d.tar.xz\n",
      "Connecting to 91.77.165.184:8890... connected.\n",
      "WARNING: cannot verify 91.77.165.184's certificate, issued by ‘emailAddress=rsuvorov@isa.ru,CN=exnibm0.isa.ru,OU=Lab 07,O=FRC CSC RAS,L=Moscow,ST=Moscow,C=RU’:\n",
      "  Self-signed certificate encountered.\n",
      "    WARNING: certificate common name ‘exnibm0.isa.ru’ doesn't match requested host name ‘91.77.165.184’.\n",
      "HTTP request sent, awaiting response... 302 Found\n",
      "Location: /login?next=%2Flab%2Ftree%2Fglove.6B.100d.tar.xz [following]\n",
      "--2019-11-20 14:27:10--  https://91.77.165.184:8890/login?next=%2Flab%2Ftree%2Fglove.6B.100d.tar.xz\n",
      "Reusing existing connection to 91.77.165.184:8890.\n",
      "HTTP request sent, awaiting response... 200 OK\n",
      "Length: 6677 (6.5K) [text/html]\n",
      "Saving to: ‘glove100.6B.100d.tar.xz’\n",
      "\n",
      "glove100.6B.100d.ta 100%[===================>]   6.52K  --.-KB/s    in 0s      \n",
      "\n",
      "2019-11-20 14:27:10 (993 MB/s) - ‘glove100.6B.100d.tar.xz’ saved [6677/6677]\n",
      "\n"
     ]
    }
   ],
   "source": [
    "!wget http://nlp.stanford.edu/data/glove.6B.zip\n",
    "!unzip glove.6B.zip"
   ]
  },
  {
   "cell_type": "markdown",
   "metadata": {},
   "source": [
    "Here we load the embeddings and transform the vocabulary so that it includes only words that occur in the data and for which embeddings exist:"
   ]
  },
  {
   "cell_type": "code",
   "execution_count": 63,
   "metadata": {},
   "outputs": [],
   "source": [
    "# load the embeddings\n",
    "def load_embeddings(emb_path, vocab):\n",
    "    clf_embeddings = {}\n",
    "    emb_vocab = set()\n",
    "    for line in open(emb_path):\n",
    "        line = line.strip('\\n').split()\n",
    "        word, emb = line[0], line[1:]\n",
    "        emb = [float(e) for e in emb]\n",
    "        if word in vocab:\n",
    "            clf_embeddings[word] = emb\n",
    "    for w in vocab:\n",
    "        if w in clf_embeddings:\n",
    "            emb_vocab.add(w)\n",
    "    word2idx = {w: idx for (idx, w) in enumerate(emb_vocab)}\n",
    "    max_val = max(word2idx.values())\n",
    "    \n",
    "    word2idx['UNK'] = max_val + 1\n",
    "    word2idx['EOS'] = max_val + 2\n",
    "    emb_dim = len(list(clf_embeddings.values())[0])\n",
    "    clf_embeddings['UNK'] = [0.0 for i in range(emb_dim)]\n",
    "    clf_embeddings['EOS'] = [0.0 for i in range(emb_dim)]\n",
    "    \n",
    "    embeddings = [[] for i in range(len(word2idx))]\n",
    "    for w in word2idx:\n",
    "        embeddings[word2idx[w]] = clf_embeddings[w]\n",
    "    embeddings = torch.Tensor(embeddings)\n",
    "    return embeddings, word2idx\n",
    "embeddings, vocab = load_embeddings('../../glove.6B.100d.txt', vocab)"
   ]
  },
  {
   "cell_type": "markdown",
   "metadata": {},
   "source": [
    "Let us check the lengths of sentences in the dataset:"
   ]
  },
  {
   "cell_type": "code",
   "execution_count": 64,
   "metadata": {},
   "outputs": [
    {
     "name": "stdout",
     "output_type": "stream",
     "text": [
      "Average SMS length:  19.554897739504845\n"
     ]
    },
    {
     "data": {
      "image/png": "[encoded data removed]",
      "text/plain": [
       "<Figure size 432x288 with 1 Axes>"
      ]
     },
     "metadata": {
      "needs_background": "light"
     },
     "output_type": "display_data"
    }
   ],
   "source": [
    "txt_lengths = [len(t) for t in txt] \n",
    "print('Average SMS length: ', np.average(txt_lengths))\n",
    "p = plt.hist(txt_lengths, bins=30)\n",
    "l = plt.xlabel('# words per text')\n",
    "l = plt.ylabel('# texts')"
   ]
  },
  {
   "cell_type": "markdown",
   "metadata": {},
   "source": [
    "Since the majority of sentences are not longer than 50 words, we can truncate longer texts:"
   ]
  },
  {
   "cell_type": "code",
   "execution_count": 65,
   "metadata": {},
   "outputs": [],
   "source": [
    "txt = [t[:50] for t in txt]"
   ]
  },
  {
   "cell_type": "code",
   "execution_count": 66,
   "metadata": {},
   "outputs": [
    {
     "data": {
      "image/png": "[encoded data removed]",
      "text/plain": [
       "<Figure size 432x288 with 1 Axes>"
      ]
     },
     "metadata": {
      "needs_background": "light"
     },
     "output_type": "display_data"
    }
   ],
   "source": [
    "p = plt.hist([len(t) for t in txt] , bins=30)\n",
    "l = plt.xlabel('# words per text')\n",
    "l = plt.ylabel('# texts')"
   ]
  },
  {
   "cell_type": "markdown",
   "metadata": {},
   "source": [
    "We need to transform a list of lines of different lengths to a matrix which can be used as an input to a neural network.\n",
    "\n",
    "We pad the shorter lines with EOS symbol to match the length of the longest line in a batch:"
   ]
  },
  {
   "cell_type": "code",
   "execution_count": 67,
   "metadata": {},
   "outputs": [],
   "source": [
    "def to_matrix(lines, vocab, max_len=None, dtype='int32'):\n",
    "    \"\"\"Casts a list of lines into a matrix\"\"\"\n",
    "    pad = vocab['EOS']\n",
    "    max_len = max_len or max(map(len, lines))\n",
    "    lines_ix = np.zeros([len(lines), max_len], dtype) + pad\n",
    "    for i in range(len(lines)):\n",
    "        line_ix = [vocab.get(l, vocab['UNK']) for l in lines[i]]\n",
    "        lines_ix[i, :len(line_ix)] = line_ix\n",
    "    lines_ix = torch.LongTensor(lines_ix)\n",
    "    return lines_ix"
   ]
  },
  {
   "cell_type": "markdown",
   "metadata": {},
   "source": [
    "Let us check the performance of this procedure:"
   ]
  },
  {
   "cell_type": "code",
   "execution_count": 68,
   "metadata": {},
   "outputs": [
    {
     "name": "stdout",
     "output_type": "stream",
     "text": [
      "tensor([[4307, 6660, 6660],\n",
      "        [4307, 3458, 6660],\n",
      "        [1082, 3832, 6179],\n",
      "        [6659, 6659, 6660]])\n"
     ]
    }
   ],
   "source": [
    "dummy_lines = [\n",
    "    ['one'],\n",
    "    ['one', 'two'],\n",
    "    ['the', 'long', 'line'],\n",
    "    ['unkn0wn', 'w0rds']\n",
    "]\n",
    "print(to_matrix(dummy_lines, vocab))"
   ]
  },
  {
   "cell_type": "markdown",
   "metadata": {},
   "source": [
    "Generate the train/validation/test partition:"
   ]
  },
  {
   "cell_type": "code",
   "execution_count": 69,
   "metadata": {},
   "outputs": [],
   "source": [
    "train_data, valid_data, test_data = [], [], []\n",
    "for idx, (t, l) in enumerate(zip(txt, labels)):\n",
    "    t = to_matrix([t], vocab)\n",
    "    l = torch.Tensor([l])\n",
    "    if idx % 10 == 0:\n",
    "        valid_data.append((t, l))\n",
    "    elif (idx+1) % 10 == 0:\n",
    "        test_data.append((t, l))\n",
    "    else:\n",
    "        train_data.append((t, l))"
   ]
  },
  {
   "cell_type": "markdown",
   "metadata": {},
   "source": [
    "<a id='model_description'></a>\n",
    "### Model\n",
    "\n",
    "Let us now define our model. It will consist of:\n",
    "- an embedding layer which will use pre-trained GloVe embeddings with no fine-tuning\n",
    "- a layer of LSTM cells\n",
    "- a dense layer that will convert the LSTM output to scores of labels"
   ]
  },
  {
   "cell_type": "code",
   "execution_count": 70,
   "metadata": {},
   "outputs": [],
   "source": [
    "class BiLSTM(nn.Module):\n",
    "    def __init__(self, embeddings, hidden_dim=128, lstm_layer=1, output=2):\n",
    "        \n",
    "        super(BiLSTM, self).__init__()\n",
    "        self.hidden_dim = hidden_dim\n",
    "        \n",
    "        # load pre-trained embeddings\n",
    "        self.embedding = nn.Embedding.from_pretrained(embeddings)\n",
    "        # embeddings are not fine-tuned\n",
    "        self.embedding.weight.requires_grad = False\n",
    "        \n",
    "        # RNN layer with LSTM cells\n",
    "        self.lstm = nn.LSTM(input_size=self.embedding.embedding_dim,\n",
    "                            hidden_size=hidden_dim,\n",
    "                            num_layers=lstm_layer, \n",
    "                            bidirectional=True)\n",
    "        # dense layer\n",
    "        self.output = nn.Linear(hidden_dim*2, output)\n",
    "    \n",
    "    def forward(self, sents):\n",
    "        x = self.embedding(sents)\n",
    "        \n",
    "        # the original dimensions of torch LSTM's output are: (seq_len, batch, num_directions * hidden_size)\n",
    "        lstm_out, _ = self.lstm(x)\n",
    "        \n",
    "        # reshape to get the tensor of dimensions (seq_len, batch, num_directions, hidden_size)\n",
    "        lstm_out = lstm_out.view(x.shape[0], -1, 2, self.hidden_dim)#.squeeze(1)\n",
    "        \n",
    "        # lstm_out[:, :, 0, :] -- output of the forward LSTM\n",
    "        # lstm_out[:, :, 1, :] -- output of the backward LSTM\n",
    "        # we take the last hidden state of the forward LSTM and the first hidden state of the backward LSTM\n",
    "        dense_input = torch.cat((lstm_out[-1, :, 0, :], lstm_out[0, :, 1, :]), dim=1)\n",
    "        \n",
    "        y = self.output(dense_input).view([1, 2])\n",
    "        return y"
   ]
  },
  {
   "cell_type": "markdown",
   "metadata": {},
   "source": [
    "Let us initialise the model, optimiser, and loss:"
   ]
  },
  {
   "cell_type": "code",
   "execution_count": 71,
   "metadata": {},
   "outputs": [],
   "source": [
    "hidden_dim = 128\n",
    "layers = 1\n",
    "\n",
    "model = BiLSTM(embeddings, hidden_dim, lstm_layer=layers)\n",
    "optimizer = optim.SGD(model.parameters(), lr=1e-3)\n",
    "criterion = nn.BCEWithLogitsLoss()"
   ]
  },
  {
   "cell_type": "markdown",
   "metadata": {},
   "source": [
    "Check the number of trainable parameters in the model:"
   ]
  },
  {
   "cell_type": "code",
   "execution_count": 72,
   "metadata": {},
   "outputs": [
    {
     "name": "stdout",
     "output_type": "stream",
     "text": [
      "The model has 236,034 trainable parameters\n"
     ]
    }
   ],
   "source": [
    "def count_parameters(model):\n",
    "    return sum(p.numel() for p in model.parameters() if p.requires_grad)\n",
    "\n",
    "print(f'The model has {count_parameters(model):,} trainable parameters')"
   ]
  },
  {
   "cell_type": "markdown",
   "metadata": {},
   "source": [
    "Transfer the model and loss to GPU:"
   ]
  },
  {
   "cell_type": "code",
   "execution_count": 73,
   "metadata": {},
   "outputs": [],
   "source": [
    "device = torch.device('cuda' if torch.cuda.is_available() else 'cpu')\n",
    "model = model.to(device)\n",
    "criterion = criterion.to(device)"
   ]
  },
  {
   "cell_type": "markdown",
   "metadata": {},
   "source": [
    "Besides loss, we also need a metric which is interpretable by humans. We will use accuracy:"
   ]
  },
  {
   "cell_type": "code",
   "execution_count": 74,
   "metadata": {},
   "outputs": [],
   "source": [
    "def binary_accuracy(preds, y):\n",
    "    # y is either [0, 1] or [1, 0]\n",
    "    # get the class (0 or 1)\n",
    "    y = torch.argmax(y, dim=1)\n",
    "    \n",
    "    # get the predicted class\n",
    "    preds = torch.argmax(torch.sigmoid(preds), dim=1)\n",
    "    \n",
    "    correct = (preds == y).float() \n",
    "    acc = correct.sum() / len(correct)\n",
    "    return acc"
   ]
  },
  {
   "cell_type": "markdown",
   "metadata": {},
   "source": [
    "<a id='model_training'></a>\n",
    "### Training of a model"
   ]
  },
  {
   "cell_type": "markdown",
   "metadata": {},
   "source": [
    "The procedure to perform one epoch of training:"
   ]
  },
  {
   "cell_type": "code",
   "execution_count": 75,
   "metadata": {},
   "outputs": [],
   "source": [
    "def train(model, train_data, optimizer, criterion):\n",
    "    \n",
    "    epoch_loss = 0\n",
    "    epoch_acc = 0\n",
    "    \n",
    "    # set the model to the training mode\n",
    "    model.train(mode=True)\n",
    "    \n",
    "    for t, l in train_data:\n",
    "        # reshape the data to n_words x batch_size (here batch_size=1)\n",
    "        t = t.view((-1, 1))\n",
    "        # transfer the data to GPU to make it accessible for the model and the loss\n",
    "        t = t.to(device)\n",
    "        l = l.to(device)\n",
    "        \n",
    "        # set all gradients to zero\n",
    "        optimizer.zero_grad()\n",
    "        \n",
    "        # forward pass of training\n",
    "        # compute predictions with current parameters\n",
    "        predictions = model(t)\n",
    "        # compute the loss\n",
    "        loss = criterion(predictions, l)\n",
    "        # compute the accuracy (this is only for report)\n",
    "        acc = binary_accuracy(predictions, l)\n",
    "        \n",
    "        # backward pass (fully handled by pytorch)\n",
    "        loss.backward()\n",
    "        # update all parameters according to their gradients\n",
    "        optimizer.step()\n",
    "        \n",
    "        # data for report\n",
    "        epoch_loss += loss.item()\n",
    "        epoch_acc += acc.item()\n",
    "        \n",
    "    return epoch_loss / len(train_data), epoch_acc / len(train_data)"
   ]
  },
  {
   "cell_type": "markdown",
   "metadata": {},
   "source": [
    "The evaluation procedure computes loss and accuracy, but does not update gradients:"
   ]
  },
  {
   "cell_type": "code",
   "execution_count": 76,
   "metadata": {},
   "outputs": [],
   "source": [
    "def evaluate(model, test_data, criterion):\n",
    "    \n",
    "    epoch_loss = 0\n",
    "    epoch_acc = 0\n",
    "    \n",
    "    model.eval()\n",
    "    \n",
    "    with torch.no_grad():\n",
    "    \n",
    "        for t, l in test_data:\n",
    "            t = t.view((-1, 1))\n",
    "            t = t.to(device)\n",
    "            l = l.to(device)\n",
    "            predictions = model(t)\n",
    "            \n",
    "            loss = criterion(predictions, l)\n",
    "            acc = binary_accuracy(predictions, l)\n",
    "\n",
    "            epoch_loss += loss.item()\n",
    "            epoch_acc += acc.item()\n",
    "        \n",
    "    return epoch_loss / len(test_data), epoch_acc / len(test_data)"
   ]
  },
  {
   "cell_type": "markdown",
   "metadata": {},
   "source": [
    "Procedure to compute the time between *start_time* and *end_time* points (we'll use it to note the time during training):"
   ]
  },
  {
   "cell_type": "code",
   "execution_count": 77,
   "metadata": {},
   "outputs": [],
   "source": [
    "def epoch_time(start_time, end_time):\n",
    "    elapsed_time = end_time - start_time\n",
    "    elapsed_mins = int(elapsed_time / 60)\n",
    "    elapsed_secs = int(elapsed_time - (elapsed_mins * 60))\n",
    "    return elapsed_mins, elapsed_secs"
   ]
  },
  {
   "cell_type": "markdown",
   "metadata": {},
   "source": [
    "Run training and evaluation for several epochs:"
   ]
  },
  {
   "cell_type": "code",
   "execution_count": null,
   "metadata": {},
   "outputs": [
    {
     "name": "stdout",
     "output_type": "stream",
     "text": [
      "Epoch: 01 | Epoch Time: 0m 15s\n",
      "\tTrain Loss: 0.432 | Train Acc: 86.79%\n",
      "\t Val. Loss: 0.397 |  Val. Acc: 84.05%\n",
      "Epoch: 02 | Epoch Time: 0m 15s\n",
      "\tTrain Loss: 0.347 | Train Acc: 87.17%\n",
      "\t Val. Loss: 0.386 |  Val. Acc: 84.05%\n",
      "Epoch: 03 | Epoch Time: 0m 15s\n",
      "\tTrain Loss: 0.335 | Train Acc: 87.17%\n",
      "\t Val. Loss: 0.371 |  Val. Acc: 84.05%\n"
     ]
    }
   ],
   "source": [
    "N_EPOCHS = 5\n",
    "\n",
    "best_valid_loss = float('inf')\n",
    "\n",
    "for epoch in range(N_EPOCHS):\n",
    "\n",
    "    start_time = time.time()\n",
    "    \n",
    "    train_loss, train_acc = train(model, train_data, optimizer, criterion)\n",
    "    valid_loss, valid_acc = evaluate(model, valid_data, criterion)\n",
    "    \n",
    "    end_time = time.time()\n",
    "\n",
    "    epoch_mins, epoch_secs = epoch_time(start_time, end_time)\n",
    "    \n",
    "    if valid_loss < best_valid_loss:\n",
    "        best_valid_loss = valid_loss\n",
    "        torch.save(model.state_dict(), 'tut1-model.pt')\n",
    "    \n",
    "    print(f'Epoch: {epoch+1:02} | Epoch Time: {epoch_mins}m {epoch_secs}s')\n",
    "    print(f'\\tTrain Loss: {train_loss:.3f} | Train Acc: {train_acc*100:.2f}%')\n",
    "    print(f'\\t Val. Loss: {valid_loss:.3f} |  Val. Acc: {valid_acc*100:.2f}%')"
   ]
  },
  {
   "cell_type": "markdown",
   "metadata": {},
   "source": [
    "<a id='exercises'></a>\n",
    "### Exercises\n",
    "\n",
    "1. Change the parameters of model, find the best configuration:\n",
    " - add another layer,\n",
    " - increase the number of cells in the hidden layer,\n",
    " - change LSTM cells to GRU.\n",
    "2. Compute F$_1$-score on the validation set.\n",
    "3. Use <code>torchtext</code> library to load the text and generate batches.\n",
    "4. \\*Change the model so that it can solve the regression task. You can use reviews from the [Movie\\$ Data corpus](http://www.cs.cmu.edu/~ark/movie$-data/) or the [dataset](http://hdl.handle.net/11372/LRT-2619) for sentence-level quality estimation task.\n"
   ]
  }
 ],
 "metadata": {
  "kernelspec": {
   "display_name": "Python 3",
   "language": "python",
   "name": "python3"
  },
  "language_info": {
   "codemirror_mode": {
    "name": "ipython",
    "version": 3
   },
   "file_extension": ".py",
   "mimetype": "text/x-python",
   "name": "python",
   "nbconvert_exporter": "python",
   "pygments_lexer": "ipython3",
   "version": "3.7.3"
  }
 },
 "nbformat": 4,
 "nbformat_minor": 4
}
